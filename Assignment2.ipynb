{
 "cells": [
  {
   "cell_type": "code",
   "execution_count": 1,
   "id": "df46f248",
   "metadata": {},
   "outputs": [
    {
     "name": "stdout",
     "output_type": "stream",
     "text": [
      "[ 1  2  3  4  5  6  7  8  9 10]\n",
      "[[1 2 3]\n",
      " [4 5 6]\n",
      " [7 8 9]]\n",
      "[[[0.2515335  0.10485689 0.07709016]\n",
      "  [0.53529482 0.87455919 0.49053651]\n",
      "  [0.95947539 0.24766913 0.38140044]\n",
      "  [0.70052779 0.54980389 0.65355921]\n",
      "  [0.86589977 0.90407693 0.29161881]]\n",
      "\n",
      " [[0.75982771 0.33678447 0.33271982]\n",
      "  [0.95809054 0.73976018 0.72783923]\n",
      "  [0.94141252 0.86428915 0.34202026]\n",
      "  [0.92241758 0.38502797 0.48830139]\n",
      "  [0.46676596 0.78502942 0.69369076]]\n",
      "\n",
      " [[0.33012213 0.59854256 0.79949644]\n",
      "  [0.20142262 0.89293368 0.1553844 ]\n",
      "  [0.55047315 0.87852818 0.25411665]\n",
      "  [0.40330102 0.37373398 0.09751929]\n",
      "  [0.30691233 0.37572646 0.11348591]]]\n",
      "(10,) 10 int64\n",
      "(3, 3) 9 int64\n",
      "(3, 5, 3) 45 float64\n"
     ]
    }
   ],
   "source": [
    "#Creating Arrays\n",
    "import numpy as np\n",
    "\n",
    "# 1D array\n",
    "arr1 = np.arange(1, 11)\n",
    "print(arr1)\n",
    "\n",
    "# 2D array (3x3)\n",
    "arr2 = np.arange(1, 10).reshape(3, 3)\n",
    "print(arr2)\n",
    "\n",
    "# 3D random array (3,5,3)\n",
    "arr3 = np.random.rand(3, 5, 3)\n",
    "print(arr3)\n",
    "\n",
    "# Shapes, sizes, dtypes\n",
    "print(arr1.shape, arr1.size, arr1.dtype)\n",
    "print(arr2.shape, arr2.size, arr2.dtype)\n",
    "print(arr3.shape, arr3.size, arr3.dtype)\n"
   ]
  },
  {
   "cell_type": "code",
   "execution_count": 4,
   "id": "9f853723",
   "metadata": {},
   "outputs": [
    {
     "name": "stdout",
     "output_type": "stream",
     "text": [
      "[10 20 30]\n",
      "[10 30 50 70 90]\n",
      "[90 80 70 60 50 40 30 20 10]\n"
     ]
    }
   ],
   "source": [
    "#Array Indexing and Slicing\n",
    "data = np.array([10, 20, 30, 40, 50, 60, 70, 80, 90])\n",
    "\n",
    "print(data[:3])          # First three elements\n",
    "print(data[::2])         # Every alternate element\n",
    "print(data[::-1])        # Reverse\n"
   ]
  },
  {
   "cell_type": "code",
   "execution_count": 2,
   "id": "1e5d2c46",
   "metadata": {},
   "outputs": [
    {
     "name": "stdout",
     "output_type": "stream",
     "text": [
      "A: [18  4 10  7 12]\n",
      "B: [ 6 18 19 14 14]\n",
      "Add: [24 22 29 21 26]\n",
      "Subtract: [ 12 -14  -9  -7  -2]\n",
      "Multiply: [108  72 190  98 168]\n",
      "Divide: [3.         0.22222222 0.52631579 0.5        0.85714286]\n",
      "Dot Product: 636\n",
      "A Mean: 10.2\n",
      "A Median: 10.0\n",
      "A Std: 4.749736834815167\n",
      "A Var: 22.560000000000002\n",
      "B Max: 19 at index 2\n",
      "B Min: 6 at index 0\n"
     ]
    }
   ],
   "source": [
    "# Mathematical Ops\n",
    "A = np.random.randint(1, 21, 5)\n",
    "B = np.random.randint(1, 21, 5)\n",
    "\n",
    "print(\"A:\", A)\n",
    "print(\"B:\", B)\n",
    "\n",
    "print(\"Add:\", A + B)\n",
    "print(\"Subtract:\", A - B)\n",
    "print(\"Multiply:\", A * B)\n",
    "print(\"Divide:\", A / B)\n",
    "\n",
    "print(\"Dot Product:\", np.dot(A, B))\n",
    "\n",
    "print(\"A Mean:\", np.mean(A))\n",
    "print(\"A Median:\", np.median(A))\n",
    "print(\"A Std:\", np.std(A))\n",
    "print(\"A Var:\", np.var(A))\n",
    "\n",
    "print(\"B Max:\", np.max(B), \"at index\", np.argmax(B))\n",
    "print(\"B Min:\", np.min(B), \"at index\", np.argmin(B))\n"
   ]
  },
  {
   "cell_type": "code",
   "execution_count": 8,
   "id": "e3c124be",
   "metadata": {},
   "outputs": [
    {
     "name": "stdout",
     "output_type": "stream",
     "text": [
      "[[ 1  2  3]\n",
      " [ 4  5  6]\n",
      " [ 7  8  9]\n",
      " [10 11 12]]\n",
      "[[[ 1  2  3]\n",
      "  [ 4  5  6]]\n",
      "\n",
      " [[ 7  8  9]\n",
      "  [10 11 12]]]\n",
      "[[ 1  4  7 10]\n",
      " [ 2  5  8 11]\n",
      " [ 3  6  9 12]]\n",
      "Transposed shape: (3, 4)\n"
     ]
    }
   ],
   "source": [
    "# Reshaping And Trnasposing\n",
    "arr = np.arange(1, 13)\n",
    "\n",
    "arr2d = arr.reshape(4, 3)\n",
    "print(arr2d)\n",
    "\n",
    "arr3d = arr.reshape(2, 2, 3)\n",
    "print(arr3d)\n",
    "\n",
    "transposed = arr2d.T\n",
    "print(transposed)\n",
    "print(\"Transposed shape:\", transposed.shape)\n"
   ]
  },
  {
   "cell_type": "code",
   "execution_count": 9,
   "id": "31907928",
   "metadata": {},
   "outputs": [
    {
     "name": "stdout",
     "output_type": "stream",
     "text": [
      "Array: [43 46 39 26 26 49 19 15 28 12 44 11 12 13 35]\n",
      "Elements >25: [43 46 39 26 26 49 28 44 35]\n",
      "After replacing <30 with 0: [43 46 39  0  0 49  0  0  0  0 44  0  0  0 35]\n",
      "Count divisible by 5: 10\n"
     ]
    }
   ],
   "source": [
    "# Boolean masking and filtering \n",
    "arr = np.random.randint(10, 51, 15)\n",
    "print(\"Array:\", arr)\n",
    "\n",
    "print(\"Elements >25:\", arr[arr > 25])\n",
    "\n",
    "arr[arr < 30] = 0\n",
    "print(\"After replacing <30 with 0:\", arr)\n",
    "\n",
    "print(\"Count divisible by 5:\", np.sum(arr % 5 == 0))\n"
   ]
  },
  {
   "cell_type": "code",
   "execution_count": null,
   "id": "8771ec0d",
   "metadata": {},
   "outputs": [],
   "source": [
    "# Working with built in functions\n",
    "print(np.linspace(0, 1, 10))\n",
    "\n",
    "print(np.eye(4))\n",
    "\n",
    "arr = np.random.randint(1, 101, 20)\n",
    "arr.sort()\n",
    "print(\"Sorted:\", arr)\n",
    "print(\"5 largest:\", arr[-5:])\n"
   ]
  }
 ],
 "metadata": {
  "kernelspec": {
   "display_name": "base",
   "language": "python",
   "name": "python3"
  },
  "language_info": {
   "codemirror_mode": {
    "name": "ipython",
    "version": 3
   },
   "file_extension": ".py",
   "mimetype": "text/x-python",
   "name": "python",
   "nbconvert_exporter": "python",
   "pygments_lexer": "ipython3",
   "version": "3.9.12"
  }
 },
 "nbformat": 4,
 "nbformat_minor": 5
}
