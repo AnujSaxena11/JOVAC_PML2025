{
 "cells": [
  {
   "cell_type": "code",
   "execution_count": 3,
   "id": "df46f248",
   "metadata": {},
   "outputs": [
    {
     "name": "stdout",
     "output_type": "stream",
     "text": [
      "[ 1  2  3  4  5  6  7  8  9 10]\n",
      "[[1 2 3]\n",
      " [4 5 6]\n",
      " [7 8 9]]\n",
      "[[[0.85106881 0.79437642 0.59468714]\n",
      "  [0.8823318  0.54997169 0.64950588]\n",
      "  [0.51651396 0.13174898 0.06176648]\n",
      "  [0.86379318 0.03491625 0.59090461]\n",
      "  [0.10798989 0.53076825 0.45774839]]\n",
      "\n",
      " [[0.46380473 0.05136123 0.22467657]\n",
      "  [0.59608119 0.94428714 0.75589515]\n",
      "  [0.04821424 0.72175833 0.76389407]\n",
      "  [0.1435489  0.93507876 0.93958122]\n",
      "  [0.19295932 0.14452261 0.68125768]]\n",
      "\n",
      " [[0.0279781  0.22514647 0.46724315]\n",
      "  [0.93068945 0.41881902 0.17046427]\n",
      "  [0.91257237 0.66809581 0.85669598]\n",
      "  [0.4719247  0.42851566 0.8598432 ]\n",
      "  [0.60431524 0.11187013 0.49881319]]]\n",
      "(10,) 10 int64\n",
      "(3, 3) 9 int64\n",
      "(3, 5, 3) 45 float64\n"
     ]
    }
   ],
   "source": [
    "#Creating Arrays\n",
    "import numpy as np\n",
    "\n",
    "# 1D array\n",
    "arr1 = np.arange(1, 11)\n",
    "print(arr1)\n",
    "\n",
    "# 2D array (3x3)\n",
    "arr2 = np.arange(1, 10).reshape(3, 3)\n",
    "print(arr2)\n",
    "\n",
    "# 3D random array (3,5,3)\n",
    "arr3 = np.random.rand(3, 5, 3)\n",
    "print(arr3)\n",
    "\n",
    "# Shapes, sizes, dtypes\n",
    "print(arr1.shape, arr1.size, arr1.dtype)\n",
    "print(arr2.shape, arr2.size, arr2.dtype)\n",
    "print(arr3.shape, arr3.size, arr3.dtype)\n"
   ]
  },
  {
   "cell_type": "code",
   "execution_count": 4,
   "id": "9f853723",
   "metadata": {},
   "outputs": [
    {
     "name": "stdout",
     "output_type": "stream",
     "text": [
      "[10 20 30]\n",
      "[10 30 50 70 90]\n",
      "[90 80 70 60 50 40 30 20 10]\n"
     ]
    }
   ],
   "source": [
    "#Array Indexing and Slicing\n",
    "data = np.array([10, 20, 30, 40, 50, 60, 70, 80, 90])\n",
    "\n",
    "print(data[:3])          # First three elements\n",
    "print(data[::2])         # Every alternate element\n",
    "print(data[::-1])        # Reverse\n"
   ]
  },
  {
   "cell_type": "code",
   "execution_count": 5,
   "id": "1e5d2c46",
   "metadata": {},
   "outputs": [
    {
     "name": "stdout",
     "output_type": "stream",
     "text": [
      "A: [ 3  7 13 16 16]\n",
      "B: [ 7  4 16 14  3]\n",
      "Add: [10 11 29 30 19]\n",
      "Subtract: [-4  3 -3  2 13]\n",
      "Multiply: [ 21  28 208 224  48]\n",
      "Divide: [0.42857143 1.75       0.8125     1.14285714 5.33333333]\n",
      "Dot Product: 529\n",
      "A Mean: 11.0\n",
      "A Median: 13.0\n",
      "A Std: 5.176871642217914\n",
      "A Var: 26.8\n",
      "B Max: 16 at index 2\n",
      "B Min: 3 at index 4\n"
     ]
    }
   ],
   "source": [
    "# Mathematical Ops\n",
    "A = np.random.randint(1, 21, 5)\n",
    "B = np.random.randint(1, 21, 5)\n",
    "\n",
    "print(\"A:\", A)\n",
    "print(\"B:\", B)\n",
    "\n",
    "print(\"Add:\", A + B)\n",
    "print(\"Subtract:\", A - B)\n",
    "print(\"Multiply:\", A * B)\n",
    "print(\"Divide:\", A / B)\n",
    "\n",
    "print(\"Dot Product:\", np.dot(A, B))\n",
    "\n",
    "print(\"A Mean:\", np.mean(A))\n",
    "print(\"A Median:\", np.median(A))\n",
    "print(\"A Std:\", np.std(A))\n",
    "print(\"A Var:\", np.var(A))\n",
    "\n",
    "print(\"B Max:\", np.max(B), \"at index\", np.argmax(B))\n",
    "print(\"B Min:\", np.min(B), \"at index\", np.argmin(B))\n"
   ]
  },
  {
   "cell_type": "code",
   "execution_count": 6,
   "id": "e3c124be",
   "metadata": {},
   "outputs": [
    {
     "name": "stdout",
     "output_type": "stream",
     "text": [
      "[[ 1  2  3]\n",
      " [ 4  5  6]\n",
      " [ 7  8  9]\n",
      " [10 11 12]]\n",
      "[[[ 1  2  3]\n",
      "  [ 4  5  6]]\n",
      "\n",
      " [[ 7  8  9]\n",
      "  [10 11 12]]]\n",
      "[[ 1  4  7 10]\n",
      " [ 2  5  8 11]\n",
      " [ 3  6  9 12]]\n",
      "Transposed shape: (3, 4)\n"
     ]
    }
   ],
   "source": [
    "# Reshaping And Trnasposing\n",
    "arr = np.arange(1, 13)\n",
    "\n",
    "arr2d = arr.reshape(4, 3)\n",
    "print(arr2d)\n",
    "\n",
    "arr3d = arr.reshape(2, 2, 3)\n",
    "print(arr3d)\n",
    "\n",
    "transposed = arr2d.T\n",
    "print(transposed)\n",
    "print(\"Transposed shape:\", transposed.shape)\n"
   ]
  },
  {
   "cell_type": "code",
   "execution_count": 7,
   "id": "31907928",
   "metadata": {},
   "outputs": [
    {
     "name": "stdout",
     "output_type": "stream",
     "text": [
      "Array: [24 46 24 13 35 34 45 35 23 37 33 27 32 47 16]\n",
      "Elements >25: [46 35 34 45 35 37 33 27 32 47]\n",
      "After replacing <30 with 0: [ 0 46  0  0 35 34 45 35  0 37 33  0 32 47  0]\n",
      "Count divisible by 5: 9\n"
     ]
    }
   ],
   "source": [
    "# Boolean masking and filtering \n",
    "arr = np.random.randint(10, 51, 15)\n",
    "print(\"Array:\", arr)\n",
    "\n",
    "print(\"Elements >25:\", arr[arr > 25])\n",
    "\n",
    "arr[arr < 30] = 0\n",
    "print(\"After replacing <30 with 0:\", arr)\n",
    "\n",
    "print(\"Count divisible by 5:\", np.sum(arr % 5 == 0))\n"
   ]
  },
  {
   "cell_type": "code",
   "execution_count": 8,
   "id": "8771ec0d",
   "metadata": {},
   "outputs": [
    {
     "name": "stdout",
     "output_type": "stream",
     "text": [
      "[0.         0.11111111 0.22222222 0.33333333 0.44444444 0.55555556\n",
      " 0.66666667 0.77777778 0.88888889 1.        ]\n",
      "[[1. 0. 0. 0.]\n",
      " [0. 1. 0. 0.]\n",
      " [0. 0. 1. 0.]\n",
      " [0. 0. 0. 1.]]\n",
      "Sorted: [ 2 11 15 16 17 23 32 39 42 42 49 54 55 60 61 66 71 79 86 95]\n",
      "5 largest: [66 71 79 86 95]\n"
     ]
    }
   ],
   "source": [
    "# Working with built in functions\n",
    "print(np.linspace(0, 1, 10))\n",
    "\n",
    "print(np.eye(4))\n",
    "\n",
    "arr = np.random.randint(1, 101, 20)\n",
    "arr.sort()\n",
    "print(\"Sorted:\", arr)\n",
    "print(\"5 largest:\", arr[-5:])\n"
   ]
  }
 ],
 "metadata": {
  "kernelspec": {
   "display_name": "base",
   "language": "python",
   "name": "python3"
  },
  "language_info": {
   "codemirror_mode": {
    "name": "ipython",
    "version": 3
   },
   "file_extension": ".py",
   "mimetype": "text/x-python",
   "name": "python",
   "nbconvert_exporter": "python",
   "pygments_lexer": "ipython3",
   "version": "3.9.12"
  }
 },
 "nbformat": 4,
 "nbformat_minor": 5
}
